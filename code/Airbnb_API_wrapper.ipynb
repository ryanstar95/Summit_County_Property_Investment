{
 "cells": [
  {
   "cell_type": "markdown",
   "metadata": {},
   "source": [
    "# AirBnB API wrapper\n",
    "\n",
    "Used a third party API to extract info from AirBnB:\n",
    "\n",
    "Ran this daily for a week. Need to update the date each time this is run. The date is used as an extention of the file saved for each city.\n",
    "\n",
    "The files are saved in a rawdata folder. The AirBnB_create_dataframe routine will pull each of the rawdata file and merge into one file."
   ]
  },
  {
   "cell_type": "code",
   "execution_count": 1,
   "metadata": {},
   "outputs": [],
   "source": [
    "import numpy as np\n",
    "import requests\n",
    "import json"
   ]
  },
  {
   "cell_type": "code",
   "execution_count": 3,
   "metadata": {},
   "outputs": [],
   "source": [
    "summit_county_cities_list = ['frisco',\n",
    "                             'dillon', \n",
    "                             'breckenridge', \n",
    "                             'blue river',\n",
    "                             'copper mountain',\n",
    "                             'silverthorne', \n",
    "                             'summit cove',\n",
    "                             'montezuma',\n",
    "                             'wildernest'\n",
    "                             ]\n",
    "\n",
    "# Set date\n",
    "date = str(20200304)"
   ]
  },
  {
   "cell_type": "code",
   "execution_count": 4,
   "metadata": {},
   "outputs": [
    {
     "name": "stdout",
     "output_type": "stream",
     "text": [
      "Getting frisco info\n",
      "Getting dillon info\n",
      "Getting breckenridge info\n",
      "Getting blue river info\n",
      "Getting copper mountain info\n",
      "Getting silverthorne info\n",
      "Getting summit cove info\n",
      "Getting montezuma info\n",
      "Getting wildernest info\n",
      "Finished: data stored in 20200304 extenstion\n"
     ]
    }
   ],
   "source": [
    "# Get info based on location data\n",
    "\n",
    "for name in summit_county_cities_list:\n",
    "    \n",
    "    loction_name = name + \", co\"\n",
    "    rawdata_name = name.replace(\" \", \"\")\n",
    "\n",
    "    print(f'Getting {name} info')\n",
    "\n",
    "    r = requests.post(\n",
    "        'https://removed/executions',\n",
    "        headers={\n",
    "            'Token': 'removed',\n",
    "        },\n",
    "        json={\n",
    "            'inputs': {\n",
    "                'neighborhood_id': '',\n",
    "                'ne_lat': '',\n",
    "                'ne_lng': '',\n",
    "                'property_type_id': '',\n",
    "                'sw_lat': '',\n",
    "                'sw_lng': '',\n",
    "                'checkin_date': '',\n",
    "                'checkout_date': '',\n",
    "                'location': loction_name,\n",
    "                'price_max': '',\n",
    "                'price_min': '',\n",
    "                'superhost_only': '',\n",
    "                'currency': '',\n",
    "                'limit': '',\n",
    "                'offset': '',\n",
    "                'airbnb_api_key': '',\n",
    "            },\n",
    "            'proxy': {\n",
    "              'type': 'shared',\n",
    "              'location': 'nyc',\n",
    "            },\n",
    "            'format': 'json'\n",
    "        },\n",
    "    )\n",
    "\n",
    "    response_json = r.json()\n",
    "\n",
    "    # Serialize data into file:\n",
    "    file = \"../rawdata/airbnb_rawdata_\" + rawdata_name + \"_\" + date + \".json\"\n",
    "    json.dump( response_json, open( file, 'w' ) )\n",
    "    \n",
    "print(f'Finished: data stored in {date} extenstion')\n",
    "\n"
   ]
  }
 ],
 "metadata": {
  "kernelspec": {
   "display_name": "Python 3",
   "language": "python",
   "name": "python3"
  },
  "language_info": {
   "codemirror_mode": {
    "name": "ipython",
    "version": 3
   },
   "file_extension": ".py",
   "mimetype": "text/x-python",
   "name": "python",
   "nbconvert_exporter": "python",
   "pygments_lexer": "ipython3",
   "version": "3.7.4"
  }
 },
 "nbformat": 4,
 "nbformat_minor": 2
}
