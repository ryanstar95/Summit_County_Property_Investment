{
 "cells": [
  {
   "cell_type": "markdown",
   "metadata": {},
   "source": [
    "# feature engineering\n",
    "\n"
   ]
  },
  {
   "cell_type": "code",
   "execution_count": 1,
   "metadata": {},
   "outputs": [],
   "source": [
    "import pandas as pd\n",
    "import numpy as np\n",
    "\n",
    "import seaborn as sns\n",
    "import matplotlib.pyplot as plt\n",
    "\n",
    "from datetime import datetime\n",
    "\n",
    "from sklearn.model_selection import train_test_split, cross_val_score\n",
    "from sklearn.linear_model import LinearRegression\n",
    "from sklearn.metrics import r2_score, mean_squared_error\n",
    "\n",
    "%matplotlib inline"
   ]
  },
  {
   "cell_type": "code",
   "execution_count": 13,
   "metadata": {},
   "outputs": [],
   "source": [
    "# read in the data\n",
    "df_data = pd.read_csv('../rawdata/summit_county_public_record_001.csv')"
   ]
  },
  {
   "cell_type": "code",
   "execution_count": 15,
   "metadata": {},
   "outputs": [],
   "source": [
    "df_data = pd.get_dummies(df_data, columns = ['city'], prefix = 'city')\n",
    "df_data = pd.get_dummies(df_data, columns = ['property_type'], prefix = 'property_type')"
   ]
  },
  {
   "cell_type": "code",
   "execution_count": 16,
   "metadata": {},
   "outputs": [
    {
     "data": {
      "text/html": [
       "<div>\n",
       "<style scoped>\n",
       "    .dataframe tbody tr th:only-of-type {\n",
       "        vertical-align: middle;\n",
       "    }\n",
       "\n",
       "    .dataframe tbody tr th {\n",
       "        vertical-align: top;\n",
       "    }\n",
       "\n",
       "    .dataframe thead th {\n",
       "        text-align: right;\n",
       "    }\n",
       "</style>\n",
       "<table border=\"1\" class=\"dataframe\">\n",
       "  <thead>\n",
       "    <tr style=\"text-align: right;\">\n",
       "      <th></th>\n",
       "      <th>tax_id</th>\n",
       "      <th>address</th>\n",
       "      <th>zip</th>\n",
       "      <th>beds</th>\n",
       "      <th>baths</th>\n",
       "      <th>sqft</th>\n",
       "      <th>year_built</th>\n",
       "      <th>sale_date</th>\n",
       "      <th>sale_price</th>\n",
       "      <th>file</th>\n",
       "      <th>...</th>\n",
       "      <th>city_Blue River</th>\n",
       "      <th>city_Breckenridge</th>\n",
       "      <th>city_Copper Mtn</th>\n",
       "      <th>city_Dillon</th>\n",
       "      <th>city_Frisco</th>\n",
       "      <th>city_Montezuma</th>\n",
       "      <th>city_Silverthorne</th>\n",
       "      <th>property_type_Condominium</th>\n",
       "      <th>property_type_Sfr</th>\n",
       "      <th>property_type_Townhouse</th>\n",
       "    </tr>\n",
       "  </thead>\n",
       "  <tbody>\n",
       "    <tr>\n",
       "      <th>0</th>\n",
       "      <td>6508905</td>\n",
       "      <td>910 Copper RD  Unit #210</td>\n",
       "      <td>80443</td>\n",
       "      <td>1</td>\n",
       "      <td>2</td>\n",
       "      <td>790</td>\n",
       "      <td>2000</td>\n",
       "      <td>2017-02-10</td>\n",
       "      <td>420000</td>\n",
       "      <td>2017</td>\n",
       "      <td>...</td>\n",
       "      <td>0</td>\n",
       "      <td>0</td>\n",
       "      <td>1</td>\n",
       "      <td>0</td>\n",
       "      <td>0</td>\n",
       "      <td>0</td>\n",
       "      <td>0</td>\n",
       "      <td>1</td>\n",
       "      <td>0</td>\n",
       "      <td>0</td>\n",
       "    </tr>\n",
       "    <tr>\n",
       "      <th>1</th>\n",
       "      <td>400372</td>\n",
       "      <td>317 S Fuller Placer RD</td>\n",
       "      <td>80424</td>\n",
       "      <td>3</td>\n",
       "      <td>5</td>\n",
       "      <td>4557</td>\n",
       "      <td>2018</td>\n",
       "      <td>2017-10-18</td>\n",
       "      <td>275100</td>\n",
       "      <td>2017</td>\n",
       "      <td>...</td>\n",
       "      <td>0</td>\n",
       "      <td>1</td>\n",
       "      <td>0</td>\n",
       "      <td>0</td>\n",
       "      <td>0</td>\n",
       "      <td>0</td>\n",
       "      <td>0</td>\n",
       "      <td>0</td>\n",
       "      <td>1</td>\n",
       "      <td>0</td>\n",
       "    </tr>\n",
       "    <tr>\n",
       "      <th>2</th>\n",
       "      <td>3001037</td>\n",
       "      <td>060 Tennis Club RD  Unit #1605</td>\n",
       "      <td>80435</td>\n",
       "      <td>1</td>\n",
       "      <td>1</td>\n",
       "      <td>918</td>\n",
       "      <td>1977</td>\n",
       "      <td>2017-07-21</td>\n",
       "      <td>264000</td>\n",
       "      <td>2017</td>\n",
       "      <td>...</td>\n",
       "      <td>0</td>\n",
       "      <td>0</td>\n",
       "      <td>0</td>\n",
       "      <td>1</td>\n",
       "      <td>0</td>\n",
       "      <td>0</td>\n",
       "      <td>0</td>\n",
       "      <td>1</td>\n",
       "      <td>0</td>\n",
       "      <td>0</td>\n",
       "    </tr>\n",
       "    <tr>\n",
       "      <th>3</th>\n",
       "      <td>400233</td>\n",
       "      <td>1173 Ski Hill RD  Unit #126</td>\n",
       "      <td>80424</td>\n",
       "      <td>2</td>\n",
       "      <td>2</td>\n",
       "      <td>780</td>\n",
       "      <td>1972</td>\n",
       "      <td>2017-05-04</td>\n",
       "      <td>380000</td>\n",
       "      <td>2017</td>\n",
       "      <td>...</td>\n",
       "      <td>0</td>\n",
       "      <td>1</td>\n",
       "      <td>0</td>\n",
       "      <td>0</td>\n",
       "      <td>0</td>\n",
       "      <td>0</td>\n",
       "      <td>0</td>\n",
       "      <td>1</td>\n",
       "      <td>0</td>\n",
       "      <td>0</td>\n",
       "    </tr>\n",
       "    <tr>\n",
       "      <th>4</th>\n",
       "      <td>3001255</td>\n",
       "      <td>22320 Us Highway 6  Unit #1766</td>\n",
       "      <td>80435</td>\n",
       "      <td>1</td>\n",
       "      <td>2</td>\n",
       "      <td>1168</td>\n",
       "      <td>1977</td>\n",
       "      <td>2017-07-13</td>\n",
       "      <td>395000</td>\n",
       "      <td>2017</td>\n",
       "      <td>...</td>\n",
       "      <td>0</td>\n",
       "      <td>0</td>\n",
       "      <td>0</td>\n",
       "      <td>1</td>\n",
       "      <td>0</td>\n",
       "      <td>0</td>\n",
       "      <td>0</td>\n",
       "      <td>1</td>\n",
       "      <td>0</td>\n",
       "      <td>0</td>\n",
       "    </tr>\n",
       "  </tbody>\n",
       "</table>\n",
       "<p>5 rows × 29 columns</p>\n",
       "</div>"
      ],
      "text/plain": [
       "    tax_id                         address    zip  beds  baths  sqft  \\\n",
       "0  6508905        910 Copper RD  Unit #210  80443     1      2   790   \n",
       "1   400372          317 S Fuller Placer RD  80424     3      5  4557   \n",
       "2  3001037  060 Tennis Club RD  Unit #1605  80435     1      1   918   \n",
       "3   400233     1173 Ski Hill RD  Unit #126  80424     2      2   780   \n",
       "4  3001255  22320 Us Highway 6  Unit #1766  80435     1      2  1168   \n",
       "\n",
       "   year_built   sale_date  sale_price  file  ... city_Blue River  \\\n",
       "0        2000  2017-02-10      420000  2017  ...               0   \n",
       "1        2018  2017-10-18      275100  2017  ...               0   \n",
       "2        1977  2017-07-21      264000  2017  ...               0   \n",
       "3        1972  2017-05-04      380000  2017  ...               0   \n",
       "4        1977  2017-07-13      395000  2017  ...               0   \n",
       "\n",
       "  city_Breckenridge city_Copper Mtn  city_Dillon  city_Frisco  city_Montezuma  \\\n",
       "0                 0               1            0            0               0   \n",
       "1                 1               0            0            0               0   \n",
       "2                 0               0            1            0               0   \n",
       "3                 1               0            0            0               0   \n",
       "4                 0               0            1            0               0   \n",
       "\n",
       "   city_Silverthorne  property_type_Condominium property_type_Sfr  \\\n",
       "0                  0                          1                 0   \n",
       "1                  0                          0                 1   \n",
       "2                  0                          1                 0   \n",
       "3                  0                          1                 0   \n",
       "4                  0                          1                 0   \n",
       "\n",
       "   property_type_Townhouse  \n",
       "0                        0  \n",
       "1                        0  \n",
       "2                        0  \n",
       "3                        0  \n",
       "4                        0  \n",
       "\n",
       "[5 rows x 29 columns]"
      ]
     },
     "execution_count": 16,
     "metadata": {},
     "output_type": "execute_result"
    }
   ],
   "source": [
    "df_data.head()"
   ]
  },
  {
   "cell_type": "code",
   "execution_count": 19,
   "metadata": {},
   "outputs": [
    {
     "data": {
      "text/plain": [
       "Index(['tax_id', 'address', 'zip', 'beds', 'baths', 'sqft', 'year_built',\n",
       "       'sale_date', 'sale_price', 'file', 'sub_address', 'search_by_address',\n",
       "       'geometry', 'lat', 'lng', 'sale_day', 'sale_month', 'sale_year',\n",
       "       'duplicate', 'city_Blue River', 'city_Breckenridge', 'city_Copper Mtn',\n",
       "       'city_Dillon', 'city_Frisco', 'city_Montezuma', 'city_Silverthorne',\n",
       "       'property_type_Condominium', 'property_type_Sfr',\n",
       "       'property_type_Townhouse'],\n",
       "      dtype='object')"
      ]
     },
     "execution_count": 19,
     "metadata": {},
     "output_type": "execute_result"
    }
   ],
   "source": [
    "df_data.columns"
   ]
  },
  {
   "cell_type": "code",
   "execution_count": 26,
   "metadata": {},
   "outputs": [],
   "source": [
    "df_data = df_data[['beds', 'baths', 'sqft', 'year_built', 'sale_price', 'city_Blue River', \n",
    "                  'city_Breckenridge', 'city_Copper Mtn', 'city_Dillon', 'city_Frisco', 'city_Montezuma', \n",
    "                  'city_Silverthorne', 'property_type_Condominium', 'property_type_Sfr','property_type_Townhouse']]"
   ]
  },
  {
   "cell_type": "code",
   "execution_count": 27,
   "metadata": {},
   "outputs": [
    {
     "data": {
      "image/png": "[encoded data removed]",
      "text/plain": [
       "<Figure size 720x432 with 2 Axes>"
      ]
     },
     "metadata": {
      "needs_background": "light"
     },
     "output_type": "display_data"
    }
   ],
   "source": [
    "plt.figure(figsize=(10,6))\n",
    "sns.heatmap(df_data.corr()[['sale_price']].sort_values('sale_price', ascending=False ), cmap = 'coolwarm', annot = True)\n",
    "\n",
    "plt.tight_layout()\n",
    "plt.savefig('../image/heatmap_dummy_sale_price_001.png')    "
   ]
  },
  {
   "cell_type": "code",
   "execution_count": 28,
   "metadata": {},
   "outputs": [
    {
     "name": "stdout",
     "output_type": "stream",
     "text": [
      "cv_score: 0.6017412002889404\n",
      "model_score: 0.6206966361217614\n"
     ]
    }
   ],
   "source": [
    "X = df_data[['beds', 'baths', 'sqft', 'year_built', 'property_type_Sfr']]\n",
    "y = df_data['sale_price']\n",
    "\n",
    "X_train, X_test, y_train, y_test = train_test_split(X, y, random_state = 42)\n",
    "\n",
    "model = LinearRegression()\n",
    "\n",
    "model.fit(X_train, y_train)\n",
    "\n",
    "y_pred = model.predict(X_train)\n",
    "\n",
    "cv_score = cross_val_score(model, X_train, y_train, cv=5).mean()\n",
    "\n",
    "model_score = model.score(X_test, y_test)\n",
    "\n",
    "print(f'cv_score: {cv_score}')\n",
    "print(f'model_score: {model_score}')"
   ]
  },
  {
   "cell_type": "code",
   "execution_count": null,
   "metadata": {},
   "outputs": [],
   "source": []
  },
  {
   "cell_type": "code",
   "execution_count": null,
   "metadata": {},
   "outputs": [],
   "source": [
    "# save data frame, cleaned.\n",
    "df_data.reset_index(drop = True, inplace = True)\n",
    "df_data.to_csv('../rawdata/summit_county_public_record_002.csv', index = False)\n"
   ]
  }
 ],
 "metadata": {
  "kernelspec": {
   "display_name": "Python 3",
   "language": "python",
   "name": "python3"
  },
  "language_info": {
   "codemirror_mode": {
    "name": "ipython",
    "version": 3
   },
   "file_extension": ".py",
   "mimetype": "text/x-python",
   "name": "python",
   "nbconvert_exporter": "python",
   "pygments_lexer": "ipython3",
   "version": "3.7.4"
  }
 },
 "nbformat": 4,
 "nbformat_minor": 2
}
