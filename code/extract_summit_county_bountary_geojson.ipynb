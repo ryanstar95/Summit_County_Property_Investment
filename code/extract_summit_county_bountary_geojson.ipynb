{
 "cells": [
  {
   "cell_type": "markdown",
   "metadata": {},
   "source": [
    "# Extract Summit County Boundaries\n",
    "\n",
    "This routine will extract the Summit County boundary information from the Colorado_Census_Tract_Boundaries.geojson data set. This dataset was downloaded from  Colorado Department of Public Health and Environment website.\n",
    "\n",
    "The Colorado Census Tract Boundaries dataset has all the census tract infomation for Colorado. After initial EDA, I found that Summit County has 5 census tract within its border. \n",
    "\n",
    "This routine will do the following:\n",
    "- Extract the five census tracts (64, 65, 66, 67 and 68) geojson informations out of the Colorado_Census_Tract_Boundaries.geojson data set.\n",
    "- Find where the different tracts bounderies overlap each other.\n",
    "- Match up geo points for each tract's outer bounderies and remove all inner geopoints within outer bounderies.\n",
    "- Create new geojson dataset with outer bounderies geo data points. "
   ]
  },
  {
   "cell_type": "code",
   "execution_count": 38,
   "metadata": {},
   "outputs": [],
   "source": [
    "from ipyleaflet import Map, GeoJSON, Marker\n",
    "import json\n",
    "import os\n",
    "import requests"
   ]
  },
  {
   "cell_type": "code",
   "execution_count": 39,
   "metadata": {},
   "outputs": [],
   "source": [
    "data = json.load( open( '../download_data/Colorado_Census_Tract_Boundaries.geojson', 'r' ) )"
   ]
  },
  {
   "cell_type": "markdown",
   "metadata": {},
   "source": [
    "# Extract Summit County Census Tract Boundaries information: \n",
    "\n",
    "This routine will extract individual census tract information based on the OBJECTID key.\n"
   ]
  },
  {
   "cell_type": "code",
   "execution_count": 41,
   "metadata": {},
   "outputs": [],
   "source": [
    "# load in Colorado_Census_Tract_Boundaries.geojson\n",
    "data = json.load( open( '../download_data/Colorado_Census_Tract_Boundaries.geojson', 'r' ) )\n",
    "\n",
    "data_64 = json.load( open( '../download_data/Colorado_Census_Tract_Boundaries.geojson', 'r' ) )\n",
    "data_65 = json.load( open( '../download_data/Colorado_Census_Tract_Boundaries.geojson', 'r' ) )\n",
    "data_66 = json.load( open( '../download_data/Colorado_Census_Tract_Boundaries.geojson', 'r' ) )\n",
    "data_67 = json.load( open( '../download_data/Colorado_Census_Tract_Boundaries.geojson', 'r' ) )\n",
    "data_68 = json.load( open( '../download_data/Colorado_Census_Tract_Boundaries.geojson', 'r' ) )\n",
    "\n",
    "ndx = len(data['features']) - 1\n",
    "while ndx >= 0:\n",
    "    if data_64['features'][ndx]['properties']['OBJECTID'] != 64:\n",
    "        del data_64['features'][ndx]\n",
    "    ndx = ndx - 1\n",
    "    \n",
    "ndx = len(data['features']) - 1\n",
    "while ndx >= 0:\n",
    "    if data_65['features'][ndx]['properties']['OBJECTID'] != 65:\n",
    "        del data_65['features'][ndx]\n",
    "    ndx = ndx - 1\n",
    "\n",
    "ndx = len(data['features']) - 1\n",
    "while ndx >= 0:\n",
    "    if data_66['features'][ndx]['properties']['OBJECTID'] != 66:\n",
    "        del data_66['features'][ndx]\n",
    "    ndx = ndx - 1\n",
    "    \n",
    "ndx = len(data['features']) - 1\n",
    "while ndx >= 0:\n",
    "    if data_67['features'][ndx]['properties']['OBJECTID'] != 67:\n",
    "        del data_67['features'][ndx]\n",
    "    ndx = ndx - 1\n",
    "    \n",
    "ndx = len(data['features']) - 1\n",
    "while ndx >= 0:\n",
    "    if data_68['features'][ndx]['properties']['OBJECTID'] != 68:\n",
    "        del data_68['features'][ndx]\n",
    "    ndx = ndx - 1\n",
    "    "
   ]
  },
  {
   "cell_type": "code",
   "execution_count": 42,
   "metadata": {},
   "outputs": [
    {
     "data": {
      "application/vnd.jupyter.widget-view+json": {
       "model_id": "77be68280fe747489dac1eff10128074",
       "version_major": 2,
       "version_minor": 0
      },
      "text/plain": [
       "Map(center=[39.6528607, -106.1162855], controls=(ZoomControl(options=['position', 'zoom_in_text', 'zoom_in_tit…"
      ]
     },
     "metadata": {},
     "output_type": "display_data"
    }
   ],
   "source": [
    "# visually view the CO census tracts\n",
    "\n",
    "m = Map(center=(39.6528607, -106.1162855), zoom=9)\n",
    "\n",
    "geo_json = GeoJSON(data=data, style = {'color': 'green', 'opacity':1, 'weight':1.9, 'dashArray': None, 'fillOpacity':0.1})\n",
    "m.add_layer(geo_json)\n",
    "\n",
    "m"
   ]
  },
  {
   "cell_type": "code",
   "execution_count": 43,
   "metadata": {},
   "outputs": [
    {
     "data": {
      "application/vnd.jupyter.widget-view+json": {
       "model_id": "9adc8cfc0d6e4816b091738489af226f",
       "version_major": 2,
       "version_minor": 0
      },
      "text/plain": [
       "Map(center=[39.6528607, -106.1162855], controls=(ZoomControl(options=['position', 'zoom_in_text', 'zoom_in_tit…"
      ]
     },
     "metadata": {},
     "output_type": "display_data"
    }
   ],
   "source": [
    "# Visual inspection of the extracted census tracts overlayed over CO census tracts\n",
    "vm = Map(center=(39.6528607, -106.1162855), zoom=9)\n",
    "\n",
    "geo_json = GeoJSON(data=data, style = {'color': 'green', 'opacity':1, 'weight':1.9, 'dashArray': None, 'fillOpacity':0.1})\n",
    "vm.add_layer(geo_json)\n",
    "\n",
    "geo_json = GeoJSON(data=data_64, style = {'color': 'black', 'opacity':1, 'weight':1.9, 'dashArray': None, 'fillOpacity':0.1})\n",
    "vm.add_layer(geo_json)\n",
    "geo_json = GeoJSON(data=data_65, style = {'color': 'black', 'opacity':1, 'weight':1.9, 'dashArray': None, 'fillOpacity':0.1})\n",
    "vm.add_layer(geo_json)\n",
    "geo_json = GeoJSON(data=data_66, style = {'color': 'black', 'opacity':1, 'weight':1.9, 'dashArray': None, 'fillOpacity':0.1})\n",
    "vm.add_layer(geo_json)\n",
    "geo_json = GeoJSON(data=data_67, style = {'color': 'black', 'opacity':1, 'weight':1.9, 'dashArray': None, 'fillOpacity':0.1})\n",
    "vm.add_layer(geo_json)\n",
    "geo_json = GeoJSON(data=data_68, style = {'color': 'black', 'opacity':1, 'weight':1.9, 'dashArray': None, 'fillOpacity':0.1})\n",
    "vm.add_layer(geo_json)\n",
    "\n",
    "vm"
   ]
  },
  {
   "cell_type": "code",
   "execution_count": 44,
   "metadata": {},
   "outputs": [
    {
     "data": {
      "application/vnd.jupyter.widget-view+json": {
       "model_id": "8a08735a6f8e4777b808ba681db7dac9",
       "version_major": 2,
       "version_minor": 0
      },
      "text/plain": [
       "Map(center=[39.6528607, -106.1162855], controls=(ZoomControl(options=['position', 'zoom_in_text', 'zoom_in_tit…"
      ]
     },
     "metadata": {},
     "output_type": "display_data"
    }
   ],
   "source": [
    "# Visual inspection of the individual census tracts\n",
    "\n",
    "cs = Map(center=(39.6528607, -106.1162855), zoom=9)\n",
    "\n",
    "geo_json = GeoJSON(data=data_64, style = {'color': 'black', 'opacity':1, 'weight':1.9, 'dashArray': None, 'fillOpacity':0.1})\n",
    "cs.add_layer(geo_json)\n",
    "geo_json = GeoJSON(data=data_65, style = {'color': 'black', 'opacity':1, 'weight':1.9, 'dashArray': None, 'fillOpacity':0.1})\n",
    "cs.add_layer(geo_json)\n",
    "geo_json = GeoJSON(data=data_66, style = {'color': 'black', 'opacity':1, 'weight':1.9, 'dashArray': None, 'fillOpacity':0.1})\n",
    "cs.add_layer(geo_json)\n",
    "geo_json = GeoJSON(data=data_67, style = {'color': 'black', 'opacity':1, 'weight':1.9, 'dashArray': None, 'fillOpacity':0.1})\n",
    "cs.add_layer(geo_json)\n",
    "geo_json = GeoJSON(data=data_68, style = {'color': 'black', 'opacity':1, 'weight':1.9, 'dashArray': None, 'fillOpacity':0.1})\n",
    "cs.add_layer(geo_json)\n",
    "\n",
    "cs"
   ]
  },
  {
   "cell_type": "code",
   "execution_count": 45,
   "metadata": {},
   "outputs": [],
   "source": [
    "# save census tracts information\n",
    "\n",
    "json.dump( data_64, open( \"../rawdata/Colorado_Census_Tract_64_Boundaries.geojson\", 'w' ) )\n",
    "json.dump( data_65, open( \"../rawdata/Colorado_Census_Tract_65_Boundaries.geojson\", 'w' ) )\n",
    "json.dump( data_66, open( \"../rawdata/Colorado_Census_Tract_66_Boundaries.geojson\", 'w' ) )\n",
    "json.dump( data_67, open( \"../rawdata/Colorado_Census_Tract_67_Boundaries.geojson\", 'w' ) )\n",
    "json.dump( data_68, open( \"../rawdata/Colorado_Census_Tract_68_Boundaries.geojson\", 'w' ) )"
   ]
  },
  {
   "cell_type": "markdown",
   "metadata": {},
   "source": [
    "# Find Overlapping Data Between Census Tracts"
   ]
  },
  {
   "cell_type": "code",
   "execution_count": 46,
   "metadata": {},
   "outputs": [],
   "source": [
    "# get saved census tracts information\n",
    "\n",
    "data_64 = json.load( open( \"../rawdata/Colorado_Census_Tract_64_Boundaries.geojson\", 'r' ) )\n",
    "data_65 = json.load( open( \"../rawdata/Colorado_Census_Tract_65_Boundaries.geojson\", 'r' ) )\n",
    "data_66 = json.load( open( \"../rawdata/Colorado_Census_Tract_66_Boundaries.geojson\", 'r' ) )\n",
    "data_67 = json.load( open( \"../rawdata/Colorado_Census_Tract_67_Boundaries.geojson\", 'r' ) )\n",
    "data_68 = json.load( open( \"../rawdata/Colorado_Census_Tract_68_Boundaries.geojson\", 'r' ) )"
   ]
  },
  {
   "cell_type": "code",
   "execution_count": 47,
   "metadata": {},
   "outputs": [],
   "source": [
    "# get geometry coordinates\n",
    "\n",
    "list_64 = data_64['features'][0]['geometry']['coordinates'][0]\n",
    "list_65 = data_65['features'][0]['geometry']['coordinates'][0]\n",
    "list_66 = data_66['features'][0]['geometry']['coordinates'][0]\n",
    "list_67 = data_67['features'][0]['geometry']['coordinates'][0]\n",
    "list_68 = data_68['features'][0]['geometry']['coordinates'][0]\n"
   ]
  },
  {
   "cell_type": "code",
   "execution_count": 48,
   "metadata": {},
   "outputs": [],
   "source": [
    "# Find overlapping borders by comparing the geo information between each pair of tracts \n",
    "\n",
    "list_67_66 = []\n",
    "ndx = 0\n",
    "                \n",
    "for ndx_1 in range(len(list_67)):\n",
    "    lng_1 = list_67[ndx_1][0]\n",
    "    lat_1 = list_67[ndx_1][1]\n",
    "    for ndx_2 in range(len(list_66)):\n",
    "        lng_2 = list_66[ndx_2][0]\n",
    "        lat_2 = list_66[ndx_2][1]\n",
    "        \n",
    "        if lng_1 == lng_2:\n",
    "            if lat_1 == lat_2:\n",
    "                sub_list = [ndx, ndx_1, ndx_2, lng_1, lat_1]\n",
    "                list_67_66.append(sub_list)\n",
    "                ndx += 1\n",
    "\n",
    "list_66_68 = []\n",
    "ndx = 0                \n",
    "\n",
    "for ndx_1 in range(len(list_66)):\n",
    "    lng_1 = list_66[ndx_1][0]\n",
    "    lat_1 = list_66[ndx_1][1]\n",
    "    for ndx_2 in range(len(list_68)):\n",
    "        lng_2 = list_68[ndx_2][0]\n",
    "        lat_2 = list_68[ndx_2][1]\n",
    "        \n",
    "        if lng_1 == lng_2:\n",
    "            if lat_1 == lat_2:\n",
    "                sub_list = [ndx, ndx_1, ndx_2, lng_1, lat_1]\n",
    "                list_66_68.append(sub_list)\n",
    "                ndx += 1\n",
    "\n",
    "list_68_65 = []\n",
    "ndx = 0                \n",
    "\n",
    "for ndx_1 in range(len(list_68)):\n",
    "    lng_1 = list_68[ndx_1][0]\n",
    "    lat_1 = list_68[ndx_1][1]\n",
    "    for ndx_2 in range(len(list_65)):\n",
    "        lng_2 = list_65[ndx_2][0]\n",
    "        lat_2 = list_65[ndx_2][1]\n",
    "        \n",
    "        if lng_1 == lng_2:\n",
    "            if lat_1 == lat_2:\n",
    "                sub_list = [ndx, ndx_1, ndx_2, lng_1, lat_1]\n",
    "                list_68_65.append(sub_list)\n",
    "                ndx += 1\n",
    "\n",
    "list_64_65 = []\n",
    "ndx = 0                \n",
    "\n",
    "for ndx_1 in range(len(list_64)):\n",
    "    lng_1 = list_64[ndx_1][0]\n",
    "    lat_1 = list_64[ndx_1][1]\n",
    "    for ndx_2 in range(len(list_65)):\n",
    "        lng_2 = list_65[ndx_2][0]\n",
    "        lat_2 = list_65[ndx_2][1]\n",
    "        \n",
    "        if lng_1 == lng_2:\n",
    "            if lat_1 == lat_2:\n",
    "                sub_list = [ndx, ndx_1, ndx_2, lng_1, lat_1]\n",
    "                list_64_65.append(sub_list)\n",
    "                ndx += 1\n",
    "\n",
    "list_66_67 = []\n",
    "ndx = 0                \n",
    "\n",
    "for ndx_1 in range(len(list_66)):\n",
    "    lng_1 = list_66[ndx_1][0]\n",
    "    lat_1 = list_66[ndx_1][1]\n",
    "    for ndx_2 in range(len(list_67)):\n",
    "        lng_2 = list_67[ndx_2][0]\n",
    "        lat_2 = list_67[ndx_2][1]\n",
    "        \n",
    "        if lng_1 == lng_2:\n",
    "            if lat_1 == lat_2:\n",
    "                sub_list = [ndx, ndx_1, ndx_2, lng_1, lat_1]\n",
    "                list_66_67.append(sub_list)\n",
    "                ndx += 1\n",
    "\n",
    "list_67_64 = []\n",
    "ndx = 0                \n",
    "\n",
    "for ndx_1 in range(len(list_67)):\n",
    "    lng_1 = list_67[ndx_1][0]\n",
    "    lat_1 = list_67[ndx_1][1]\n",
    "    for ndx_2 in range(len(list_64)):\n",
    "        lng_2 = list_64[ndx_2][0]\n",
    "        lat_2 = list_64[ndx_2][1]\n",
    "        \n",
    "        if lng_1 == lng_2:\n",
    "            if lat_1 == lat_2:\n",
    "                sub_list = [ndx, ndx_1, ndx_2, lng_1, lat_1]\n",
    "                list_67_64.append(sub_list)\n",
    "                ndx += 1\n",
    "\n",
    "list_64_67 = []\n",
    "ndx = 0                \n",
    "\n",
    "for ndx_1 in range(len(list_64)):\n",
    "    lng_1 = list_64[ndx_1][0]\n",
    "    lat_1 = list_64[ndx_1][1]\n",
    "    for ndx_2 in range(len(list_67)):\n",
    "        lng_2 = list_67[ndx_2][0]\n",
    "        lat_2 = list_67[ndx_2][1]\n",
    "        \n",
    "        if lng_1 == lng_2:\n",
    "            if lat_1 == lat_2:\n",
    "                sub_list = [ndx, ndx_1, ndx_2, lng_1, lat_1]\n",
    "                list_64_67.append(sub_list)\n",
    "                ndx += 1\n",
    "                \n",
    "list_65_64 = []\n",
    "ndx = 0                \n",
    "\n",
    "for ndx_1 in range(len(list_65)):\n",
    "    lng_1 = list_65[ndx_1][0]\n",
    "    lat_1 = list_65[ndx_1][1]\n",
    "    for ndx_2 in range(len(list_64)):\n",
    "        lng_2 = list_64[ndx_2][0]\n",
    "        lat_2 = list_64[ndx_2][1]\n",
    "        \n",
    "        if lng_1 == lng_2:\n",
    "            if lat_1 == lat_2:\n",
    "                sub_list = [ndx, ndx_1, ndx_2, lng_1, lat_1]\n",
    "                list_65_64.append(sub_list)\n",
    "                ndx += 1\n",
    "\n",
    "list_65_68 = []\n",
    "ndx = 0                \n",
    "\n",
    "for ndx_1 in range(len(list_65)):\n",
    "    lng_1 = list_65[ndx_1][0]\n",
    "    lat_1 = list_65[ndx_1][1]\n",
    "    for ndx_2 in range(len(list_68)):\n",
    "        lng_2 = list_68[ndx_2][0]\n",
    "        lat_2 = list_68[ndx_2][1]\n",
    "        \n",
    "        if lng_1 == lng_2:\n",
    "            if lat_1 == lat_2:\n",
    "                sub_list = [ndx, ndx_1, ndx_2, lng_1, lat_1]\n",
    "                list_65_68.append(sub_list)\n",
    "                ndx += 1\n",
    "\n",
    "list_68_66 = []\n",
    "ndx = 0                \n",
    "\n",
    "for ndx_1 in range(len(list_68)):\n",
    "    lng_1 = list_68[ndx_1][0]\n",
    "    lat_1 = list_68[ndx_1][1]\n",
    "    for ndx_2 in range(len(list_66)):\n",
    "        lng_2 = list_66[ndx_2][0]\n",
    "        lat_2 = list_66[ndx_2][1]\n",
    "        \n",
    "        if lng_1 == lng_2:\n",
    "            if lat_1 == lat_2:\n",
    "                sub_list = [ndx, ndx_1, ndx_2, lng_1, lat_1]\n",
    "                list_68_66.append(sub_list)\n",
    "                ndx += 1\n",
    "\n",
    "\n",
    " \n",
    "                "
   ]
  },
  {
   "cell_type": "markdown",
   "metadata": {},
   "source": [
    "# Zip Border Boundary\n",
    "\n",
    "At each intersection use start and end points to get the border information from each tracts. Start at a point, (in this case between 66 and 67) and zip in coordinates in a counter clockwise direction to build a geojson. Move from 66 to 68 to 65 to 64 to 67."
   ]
  },
  {
   "cell_type": "code",
   "execution_count": 49,
   "metadata": {},
   "outputs": [],
   "source": [
    "# zipper process\n",
    "\n",
    "index_ndx = 0                      \n",
    "\n",
    "ndx_64_start = list_64_65[473][1]\n",
    "ndx_65_start = list_65_68[518][1]                       \n",
    "ndx_66_start = list_66_67[446][1]                       \n",
    "ndx_67_start = list_67_64[269][1]                       \n",
    "ndx_68a_start = list_68_66[420][1] \n",
    "ndx_68b_start = 0 \n",
    "                      \n",
    "ndx_64_end = list_64_67[0][1]\n",
    "ndx_65_end = list_65_64[464][1]                       \n",
    "ndx_66_end = list_66_68[0][1]                       \n",
    "ndx_67_end = list_67_66[106][1]                       \n",
    "ndx_68a_end = len(list_68) - 1                        \n",
    "ndx_68b_end = list_68_65[0][1]              \n",
    "\n",
    "geo_line = []\n",
    "\n",
    "# data 66\n",
    "ndx = ndx_66_start     \n",
    "while ndx <= ndx_66_end:\n",
    "    lng = list_66[ndx][0]\n",
    "    lat = list_66[ndx][1]\n",
    "    geo_points = [lng, lat]\n",
    "    geo_line.append(geo_points)\n",
    "    ndx += 1\n",
    "\n",
    "# data 68\n",
    "ndx = ndx_68a_start     \n",
    "while ndx <= ndx_68a_end:\n",
    "    lng = list_68[ndx][0]\n",
    "    lat = list_68[ndx][1]\n",
    "    geo_points = [lng, lat]\n",
    "    geo_line.append(geo_points)\n",
    "    ndx += 1\n",
    "\n",
    "ndx = ndx_68b_start     \n",
    "while ndx <= ndx_68b_end:\n",
    "    lng = list_68[ndx][0]\n",
    "    lat = list_68[ndx][1]\n",
    "    geo_points = [lng, lat]\n",
    "    geo_line.append(geo_points)\n",
    "    ndx += 1\n",
    "\n",
    "# data 65\n",
    "ndx = ndx_65_start     \n",
    "while ndx <= ndx_65_end:\n",
    "    lng = list_65[ndx][0]\n",
    "    lat = list_65[ndx][1]\n",
    "    geo_points = [lng, lat]\n",
    "    geo_line.append(geo_points)\n",
    "    ndx += 1\n",
    "    \n",
    "# data 64\n",
    "ndx = ndx_64_start     \n",
    "while ndx <= ndx_64_end:\n",
    "    lng = list_64[ndx][0]\n",
    "    lat = list_64[ndx][1]\n",
    "    geo_points = [lng, lat]\n",
    "    geo_line.append(geo_points)\n",
    "    ndx += 1\n",
    "    \n",
    "# data 67\n",
    "ndx = ndx_67_start     \n",
    "while ndx <= ndx_67_end:\n",
    "    lng = list_67[ndx][0]\n",
    "    lat = list_67[ndx][1]\n",
    "    geo_points = [lng, lat]\n",
    "    geo_line.append(geo_points)\n",
    "    ndx += 1\n",
    "        \n",
    "\n",
    "data_summit = {'type': 'FeatureCollection', \n",
    "               'features': [{'type': 'Feature', \n",
    "                             'properties': {'OBJECTID': 'summit county', \n",
    "                                            'FIPS': '08043979000'},\n",
    "                             'geometry': {'type': 'Polygon', \n",
    "                                          'coordinates' : [geo_line]}}] }    \n",
    "    \n"
   ]
  },
  {
   "cell_type": "code",
   "execution_count": 50,
   "metadata": {},
   "outputs": [
    {
     "data": {
      "application/vnd.jupyter.widget-view+json": {
       "model_id": "8d351d3701574db48549e6915c7df7f6",
       "version_major": 2,
       "version_minor": 0
      },
      "text/plain": [
       "Map(center=[39.6528607, -106.1162855], controls=(ZoomControl(options=['position', 'zoom_in_text', 'zoom_in_tit…"
      ]
     },
     "metadata": {},
     "output_type": "display_data"
    }
   ],
   "source": [
    "# visually inspect outer boundary\n",
    "\n",
    "m = Map(center=(39.6528607, -106.1162855), zoom=9)\n",
    "geo_json = GeoJSON(data=data_summit, style = {'color': 'green', 'opacity':1, 'weight':1.9, 'dashArray': None, 'fillOpacity':0.1})\n",
    "m.add_layer(geo_json)\n",
    "\n",
    "m\n"
   ]
  },
  {
   "cell_type": "code",
   "execution_count": 51,
   "metadata": {},
   "outputs": [],
   "source": [
    "# Save Summit County boundaries\n",
    "json.dump(data_summit, open( \"../cleandata/Summit_County_Boundaries.geojson\", 'w' ))"
   ]
  }
 ],
 "metadata": {
  "kernelspec": {
   "display_name": "Python 3",
   "language": "python",
   "name": "python3"
  },
  "language_info": {
   "codemirror_mode": {
    "name": "ipython",
    "version": 3
   },
   "file_extension": ".py",
   "mimetype": "text/x-python",
   "name": "python",
   "nbconvert_exporter": "python",
   "pygments_lexer": "ipython3",
   "version": "3.7.4"
  }
 },
 "nbformat": 4,
 "nbformat_minor": 2
}
