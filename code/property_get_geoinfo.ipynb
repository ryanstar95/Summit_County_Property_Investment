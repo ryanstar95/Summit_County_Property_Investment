{
 "cells": [
  {
   "cell_type": "markdown",
   "metadata": {},
   "source": [
    "# Get Geodata for Properties\n",
    "\n",
    "This routine will call the google geocode API to get the latitude and lomgitude based on address passed.\n"
   ]
  },
  {
   "cell_type": "code",
   "execution_count": 2,
   "metadata": {},
   "outputs": [],
   "source": [
    "import pandas as pd\n",
    "import numpy as np\n",
    "\n",
    "import requests\n",
    "import googlemaps\n",
    "import time"
   ]
  },
  {
   "cell_type": "code",
   "execution_count": 31,
   "metadata": {},
   "outputs": [],
   "source": [
    "apikey = 'removed key'\n"
   ]
  },
  {
   "cell_type": "code",
   "execution_count": 32,
   "metadata": {},
   "outputs": [],
   "source": [
    "def combine_address(row):\n",
    "    sub_address = row['sub_address']\n",
    "    city = row['City Name']\n",
    "    state = 'CO'\n",
    " \n",
    "    sub_address = sub_address.replace(\" \", \"+\")\n",
    "    city = city.replace(\" \", \"+\")\n",
    "\n",
    "    return sub_address+\"+\"+city+\"+\"+state\n",
    "    "
   ]
  },
  {
   "cell_type": "code",
   "execution_count": 33,
   "metadata": {},
   "outputs": [],
   "source": [
    "def create_sub_address(x):\n",
    "    \n",
    "    x_list = x.split()\n",
    "\n",
    "    sub_address = \"\"\n",
    "    for ndx in x_list:\n",
    "        if ndx == 'Unit' or ndx == \"#\":\n",
    "            break\n",
    "        else:\n",
    "            sub_address = sub_address + \" \" + ndx\n",
    "\n",
    "    return sub_address[1:]"
   ]
  },
  {
   "cell_type": "code",
   "execution_count": 34,
   "metadata": {},
   "outputs": [],
   "source": [
    "def get_lat (geo):\n",
    "    return geo['lat']\n",
    "\n",
    "def get_lng (geo):\n",
    "    return geo['lng']"
   ]
  },
  {
   "cell_type": "code",
   "execution_count": 35,
   "metadata": {},
   "outputs": [],
   "source": [
    "def get_geo_code(address_search, user_apikey):\n",
    "    \n",
    "    # Instantiate google maps \n",
    "    gmaps = googlemaps.Client(key=user_apikey)\n",
    "\n",
    "    try:\n",
    "        results = gmaps.geocode(address=address_search)\n",
    "    \n",
    "        # to prevent overloading the call to google places_nearby\n",
    "        time.sleep(2)\n",
    "\n",
    "        lat = results[0][\"geometry\"][\"location\"][\"lat\"]\n",
    "        lng = results[0][\"geometry\"][\"location\"][\"lng\"] \n",
    "    \n",
    "    except:\n",
    "        \n",
    "        lat = 10\n",
    "        lng = 10\n",
    "    \n",
    "        \n",
    "    return {'lat': lat, 'lng':lng}\n"
   ]
  },
  {
   "cell_type": "code",
   "execution_count": 36,
   "metadata": {},
   "outputs": [
    {
     "data": {
      "text/html": [
       "<div>\n",
       "<style scoped>\n",
       "    .dataframe tbody tr th:only-of-type {\n",
       "        vertical-align: middle;\n",
       "    }\n",
       "\n",
       "    .dataframe tbody tr th {\n",
       "        vertical-align: top;\n",
       "    }\n",
       "\n",
       "    .dataframe thead th {\n",
       "        text-align: right;\n",
       "    }\n",
       "</style>\n",
       "<table border=\"1\" class=\"dataframe\">\n",
       "  <thead>\n",
       "    <tr style=\"text-align: right;\">\n",
       "      <th></th>\n",
       "      <th>Tax ID</th>\n",
       "      <th>Address</th>\n",
       "      <th>City Name</th>\n",
       "      <th>Property Zip</th>\n",
       "      <th>Beds</th>\n",
       "      <th>Baths (Total)</th>\n",
       "      <th>Building SqFt - Total</th>\n",
       "      <th>Yr Built</th>\n",
       "      <th>Land Use - CoreLogic</th>\n",
       "      <th>Sale Date</th>\n",
       "      <th>Last Sale Price</th>\n",
       "      <th>File</th>\n",
       "    </tr>\n",
       "  </thead>\n",
       "  <tbody>\n",
       "    <tr>\n",
       "      <th>0</th>\n",
       "      <td>6508905</td>\n",
       "      <td>910 Copper RD  Unit #210</td>\n",
       "      <td>Frisco</td>\n",
       "      <td>80443</td>\n",
       "      <td>1</td>\n",
       "      <td>2</td>\n",
       "      <td>790</td>\n",
       "      <td>2000</td>\n",
       "      <td>High Rise Condo</td>\n",
       "      <td>2/10/17</td>\n",
       "      <td>420000</td>\n",
       "      <td>2017</td>\n",
       "    </tr>\n",
       "    <tr>\n",
       "      <th>1</th>\n",
       "      <td>400372</td>\n",
       "      <td>317 S Fuller Placer RD</td>\n",
       "      <td>Breckenridge</td>\n",
       "      <td>80424</td>\n",
       "      <td>3</td>\n",
       "      <td>5</td>\n",
       "      <td>4557</td>\n",
       "      <td>2018</td>\n",
       "      <td>Sfr</td>\n",
       "      <td>10/18/17</td>\n",
       "      <td>275100</td>\n",
       "      <td>2017</td>\n",
       "    </tr>\n",
       "    <tr>\n",
       "      <th>2</th>\n",
       "      <td>3001037</td>\n",
       "      <td>060 Tennis Club RD  Unit #1605</td>\n",
       "      <td>Dillon</td>\n",
       "      <td>80435</td>\n",
       "      <td>1</td>\n",
       "      <td>1</td>\n",
       "      <td>918</td>\n",
       "      <td>1977</td>\n",
       "      <td>Condominium</td>\n",
       "      <td>7/21/17</td>\n",
       "      <td>264000</td>\n",
       "      <td>2017</td>\n",
       "    </tr>\n",
       "    <tr>\n",
       "      <th>3</th>\n",
       "      <td>400233</td>\n",
       "      <td>1173 Ski Hill RD  Unit #126</td>\n",
       "      <td>Breckenridge</td>\n",
       "      <td>80424</td>\n",
       "      <td>2</td>\n",
       "      <td>2</td>\n",
       "      <td>780</td>\n",
       "      <td>1972</td>\n",
       "      <td>Condominium</td>\n",
       "      <td>5/4/17</td>\n",
       "      <td>380000</td>\n",
       "      <td>2017</td>\n",
       "    </tr>\n",
       "    <tr>\n",
       "      <th>4</th>\n",
       "      <td>3001255</td>\n",
       "      <td>22320 Us Highway 6  Unit #1766</td>\n",
       "      <td>Dillon</td>\n",
       "      <td>80435</td>\n",
       "      <td>1</td>\n",
       "      <td>2</td>\n",
       "      <td>1168</td>\n",
       "      <td>1977</td>\n",
       "      <td>Condominium</td>\n",
       "      <td>7/13/17</td>\n",
       "      <td>395000</td>\n",
       "      <td>2017</td>\n",
       "    </tr>\n",
       "  </tbody>\n",
       "</table>\n",
       "</div>"
      ],
      "text/plain": [
       "    Tax ID                         Address     City Name  Property Zip  Beds  \\\n",
       "0  6508905        910 Copper RD  Unit #210        Frisco         80443     1   \n",
       "1   400372          317 S Fuller Placer RD  Breckenridge         80424     3   \n",
       "2  3001037  060 Tennis Club RD  Unit #1605        Dillon         80435     1   \n",
       "3   400233     1173 Ski Hill RD  Unit #126  Breckenridge         80424     2   \n",
       "4  3001255  22320 Us Highway 6  Unit #1766        Dillon         80435     1   \n",
       "\n",
       "   Baths (Total)  Building SqFt - Total  Yr Built Land Use - CoreLogic  \\\n",
       "0              2                    790      2000      High Rise Condo   \n",
       "1              5                   4557      2018                  Sfr   \n",
       "2              1                    918      1977          Condominium   \n",
       "3              2                    780      1972          Condominium   \n",
       "4              2                   1168      1977          Condominium   \n",
       "\n",
       "  Sale Date  Last Sale Price  File  \n",
       "0   2/10/17           420000  2017  \n",
       "1  10/18/17           275100  2017  \n",
       "2   7/21/17           264000  2017  \n",
       "3    5/4/17           380000  2017  \n",
       "4   7/13/17           395000  2017  "
      ]
     },
     "execution_count": 36,
     "metadata": {},
     "output_type": "execute_result"
    }
   ],
   "source": [
    "# Read in data from .\n",
    "df_data = pd.read_csv('../rawdata/Summit_County_public_record_2017_2019.csv')\n",
    "\n",
    "df_data.head()"
   ]
  },
  {
   "cell_type": "code",
   "execution_count": 37,
   "metadata": {},
   "outputs": [
    {
     "data": {
      "text/plain": [
       "Tax ID                   0\n",
       "Address                  0\n",
       "City Name                0\n",
       "Property Zip             0\n",
       "Beds                     0\n",
       "Baths (Total)            0\n",
       "Building SqFt - Total    0\n",
       "Yr Built                 0\n",
       "Land Use - CoreLogic     0\n",
       "Sale Date                0\n",
       "Last Sale Price          0\n",
       "File                     0\n",
       "dtype: int64"
      ]
     },
     "execution_count": 37,
     "metadata": {},
     "output_type": "execute_result"
    }
   ],
   "source": [
    "df_data.isnull().sum()"
   ]
  },
  {
   "cell_type": "code",
   "execution_count": 38,
   "metadata": {},
   "outputs": [],
   "source": [
    "df_data['sub_address'] = df_data['Address'].apply(lambda x: create_sub_address(x))\n",
    "df_data['search_by_address'] = df_data.apply(lambda row: combine_address (row), axis = 1)"
   ]
  },
  {
   "cell_type": "code",
   "execution_count": 39,
   "metadata": {},
   "outputs": [
    {
     "data": {
      "text/plain": [
       "Tax ID                   0\n",
       "Address                  0\n",
       "City Name                0\n",
       "Property Zip             0\n",
       "Beds                     0\n",
       "Baths (Total)            0\n",
       "Building SqFt - Total    0\n",
       "Yr Built                 0\n",
       "Land Use - CoreLogic     0\n",
       "Sale Date                0\n",
       "Last Sale Price          0\n",
       "File                     0\n",
       "sub_address              0\n",
       "search_by_address        0\n",
       "dtype: int64"
      ]
     },
     "execution_count": 39,
     "metadata": {},
     "output_type": "execute_result"
    }
   ],
   "source": [
    "df_data.isnull().sum()"
   ]
  },
  {
   "cell_type": "code",
   "execution_count": 40,
   "metadata": {},
   "outputs": [
    {
     "data": {
      "text/plain": [
       "(5490, 14)"
      ]
     },
     "execution_count": 40,
     "metadata": {},
     "output_type": "execute_result"
    }
   ],
   "source": [
    "df_data.shape"
   ]
  },
  {
   "cell_type": "code",
   "execution_count": 41,
   "metadata": {},
   "outputs": [],
   "source": [
    "# reset index\n",
    "# df_data.sort_values('sub_address', inplace = True)\n",
    "# df_data.drop_duplicates(subset = 'sub_address', keep = 'first', inplace = True) \n",
    "df_data.reset_index(drop = True, inplace = True)"
   ]
  },
  {
   "cell_type": "code",
   "execution_count": 48,
   "metadata": {},
   "outputs": [
    {
     "data": {
      "text/plain": [
       "(5490, 17)"
      ]
     },
     "execution_count": 48,
     "metadata": {},
     "output_type": "execute_result"
    }
   ],
   "source": [
    "df_data.shape"
   ]
  },
  {
   "cell_type": "code",
   "execution_count": 43,
   "metadata": {},
   "outputs": [
    {
     "name": "stdout",
     "output_type": "stream",
     "text": [
      "Here we go...\n",
      "done!\n"
     ]
    }
   ],
   "source": [
    "print(f'Here we go...')\n",
    "df_data['geometry'] = df_data['search_by_address'].apply(lambda x: get_geo_code(x, apikey))\n",
    "print(f'done!')"
   ]
  },
  {
   "cell_type": "code",
   "execution_count": 44,
   "metadata": {},
   "outputs": [],
   "source": [
    "df_data['lat'] = df_data['geometry'].apply(lambda x: get_lat(x))\n",
    "df_data['lng'] = df_data['geometry'].apply(lambda x: get_lng(x))"
   ]
  },
  {
   "cell_type": "code",
   "execution_count": 45,
   "metadata": {},
   "outputs": [
    {
     "data": {
      "text/html": [
       "<div>\n",
       "<style scoped>\n",
       "    .dataframe tbody tr th:only-of-type {\n",
       "        vertical-align: middle;\n",
       "    }\n",
       "\n",
       "    .dataframe tbody tr th {\n",
       "        vertical-align: top;\n",
       "    }\n",
       "\n",
       "    .dataframe thead th {\n",
       "        text-align: right;\n",
       "    }\n",
       "</style>\n",
       "<table border=\"1\" class=\"dataframe\">\n",
       "  <thead>\n",
       "    <tr style=\"text-align: right;\">\n",
       "      <th></th>\n",
       "      <th>Tax ID</th>\n",
       "      <th>Address</th>\n",
       "      <th>City Name</th>\n",
       "      <th>Property Zip</th>\n",
       "      <th>Beds</th>\n",
       "      <th>Baths (Total)</th>\n",
       "      <th>Building SqFt - Total</th>\n",
       "      <th>Yr Built</th>\n",
       "      <th>Land Use - CoreLogic</th>\n",
       "      <th>Sale Date</th>\n",
       "      <th>Last Sale Price</th>\n",
       "      <th>File</th>\n",
       "      <th>sub_address</th>\n",
       "      <th>search_by_address</th>\n",
       "      <th>geometry</th>\n",
       "      <th>lat</th>\n",
       "      <th>lng</th>\n",
       "    </tr>\n",
       "  </thead>\n",
       "  <tbody>\n",
       "    <tr>\n",
       "      <th>0</th>\n",
       "      <td>6508905</td>\n",
       "      <td>910 Copper RD  Unit #210</td>\n",
       "      <td>Frisco</td>\n",
       "      <td>80443</td>\n",
       "      <td>1</td>\n",
       "      <td>2</td>\n",
       "      <td>790</td>\n",
       "      <td>2000</td>\n",
       "      <td>High Rise Condo</td>\n",
       "      <td>2/10/17</td>\n",
       "      <td>420000</td>\n",
       "      <td>2017</td>\n",
       "      <td>910 Copper RD</td>\n",
       "      <td>910+Copper+RD+Frisco+CO</td>\n",
       "      <td>{'lat': 39.501766, 'lng': -106.157572}</td>\n",
       "      <td>39.501766</td>\n",
       "      <td>-106.157572</td>\n",
       "    </tr>\n",
       "    <tr>\n",
       "      <th>1</th>\n",
       "      <td>400372</td>\n",
       "      <td>317 S Fuller Placer RD</td>\n",
       "      <td>Breckenridge</td>\n",
       "      <td>80424</td>\n",
       "      <td>3</td>\n",
       "      <td>5</td>\n",
       "      <td>4557</td>\n",
       "      <td>2018</td>\n",
       "      <td>Sfr</td>\n",
       "      <td>10/18/17</td>\n",
       "      <td>275100</td>\n",
       "      <td>2017</td>\n",
       "      <td>317 S Fuller Placer RD</td>\n",
       "      <td>317+S+Fuller+Placer+RD+Breckenridge+CO</td>\n",
       "      <td>{'lat': 39.4660605, 'lng': -106.0110134}</td>\n",
       "      <td>39.466060</td>\n",
       "      <td>-106.011013</td>\n",
       "    </tr>\n",
       "    <tr>\n",
       "      <th>2</th>\n",
       "      <td>3001037</td>\n",
       "      <td>060 Tennis Club RD  Unit #1605</td>\n",
       "      <td>Dillon</td>\n",
       "      <td>80435</td>\n",
       "      <td>1</td>\n",
       "      <td>1</td>\n",
       "      <td>918</td>\n",
       "      <td>1977</td>\n",
       "      <td>Condominium</td>\n",
       "      <td>7/21/17</td>\n",
       "      <td>264000</td>\n",
       "      <td>2017</td>\n",
       "      <td>060 Tennis Club RD</td>\n",
       "      <td>060+Tennis+Club+RD+Dillon+CO</td>\n",
       "      <td>{'lat': 39.6087488, 'lng': -105.9748657}</td>\n",
       "      <td>39.608749</td>\n",
       "      <td>-105.974866</td>\n",
       "    </tr>\n",
       "    <tr>\n",
       "      <th>3</th>\n",
       "      <td>400233</td>\n",
       "      <td>1173 Ski Hill RD  Unit #126</td>\n",
       "      <td>Breckenridge</td>\n",
       "      <td>80424</td>\n",
       "      <td>2</td>\n",
       "      <td>2</td>\n",
       "      <td>780</td>\n",
       "      <td>1972</td>\n",
       "      <td>Condominium</td>\n",
       "      <td>5/4/17</td>\n",
       "      <td>380000</td>\n",
       "      <td>2017</td>\n",
       "      <td>1173 Ski Hill RD</td>\n",
       "      <td>1173+Ski+Hill+RD+Breckenridge+CO</td>\n",
       "      <td>{'lat': 39.481508, 'lng': -106.059609}</td>\n",
       "      <td>39.481508</td>\n",
       "      <td>-106.059609</td>\n",
       "    </tr>\n",
       "    <tr>\n",
       "      <th>4</th>\n",
       "      <td>3001255</td>\n",
       "      <td>22320 Us Highway 6  Unit #1766</td>\n",
       "      <td>Dillon</td>\n",
       "      <td>80435</td>\n",
       "      <td>1</td>\n",
       "      <td>2</td>\n",
       "      <td>1168</td>\n",
       "      <td>1977</td>\n",
       "      <td>Condominium</td>\n",
       "      <td>7/13/17</td>\n",
       "      <td>395000</td>\n",
       "      <td>2017</td>\n",
       "      <td>22320 Us Highway 6</td>\n",
       "      <td>22320+Us+Highway+6+Dillon+CO</td>\n",
       "      <td>{'lat': 39.6068755, 'lng': -105.9649734}</td>\n",
       "      <td>39.606876</td>\n",
       "      <td>-105.964973</td>\n",
       "    </tr>\n",
       "  </tbody>\n",
       "</table>\n",
       "</div>"
      ],
      "text/plain": [
       "    Tax ID                         Address     City Name  Property Zip  Beds  \\\n",
       "0  6508905        910 Copper RD  Unit #210        Frisco         80443     1   \n",
       "1   400372          317 S Fuller Placer RD  Breckenridge         80424     3   \n",
       "2  3001037  060 Tennis Club RD  Unit #1605        Dillon         80435     1   \n",
       "3   400233     1173 Ski Hill RD  Unit #126  Breckenridge         80424     2   \n",
       "4  3001255  22320 Us Highway 6  Unit #1766        Dillon         80435     1   \n",
       "\n",
       "   Baths (Total)  Building SqFt - Total  Yr Built Land Use - CoreLogic  \\\n",
       "0              2                    790      2000      High Rise Condo   \n",
       "1              5                   4557      2018                  Sfr   \n",
       "2              1                    918      1977          Condominium   \n",
       "3              2                    780      1972          Condominium   \n",
       "4              2                   1168      1977          Condominium   \n",
       "\n",
       "  Sale Date  Last Sale Price  File             sub_address  \\\n",
       "0   2/10/17           420000  2017           910 Copper RD   \n",
       "1  10/18/17           275100  2017  317 S Fuller Placer RD   \n",
       "2   7/21/17           264000  2017      060 Tennis Club RD   \n",
       "3    5/4/17           380000  2017        1173 Ski Hill RD   \n",
       "4   7/13/17           395000  2017      22320 Us Highway 6   \n",
       "\n",
       "                        search_by_address  \\\n",
       "0                 910+Copper+RD+Frisco+CO   \n",
       "1  317+S+Fuller+Placer+RD+Breckenridge+CO   \n",
       "2            060+Tennis+Club+RD+Dillon+CO   \n",
       "3        1173+Ski+Hill+RD+Breckenridge+CO   \n",
       "4            22320+Us+Highway+6+Dillon+CO   \n",
       "\n",
       "                                   geometry        lat         lng  \n",
       "0    {'lat': 39.501766, 'lng': -106.157572}  39.501766 -106.157572  \n",
       "1  {'lat': 39.4660605, 'lng': -106.0110134}  39.466060 -106.011013  \n",
       "2  {'lat': 39.6087488, 'lng': -105.9748657}  39.608749 -105.974866  \n",
       "3    {'lat': 39.481508, 'lng': -106.059609}  39.481508 -106.059609  \n",
       "4  {'lat': 39.6068755, 'lng': -105.9649734}  39.606876 -105.964973  "
      ]
     },
     "execution_count": 45,
     "metadata": {},
     "output_type": "execute_result"
    }
   ],
   "source": [
    "df_data.head()"
   ]
  },
  {
   "cell_type": "code",
   "execution_count": 46,
   "metadata": {},
   "outputs": [
    {
     "data": {
      "text/plain": [
       "Tax ID                   0\n",
       "Address                  0\n",
       "City Name                0\n",
       "Property Zip             0\n",
       "Beds                     0\n",
       "Baths (Total)            0\n",
       "Building SqFt - Total    0\n",
       "Yr Built                 0\n",
       "Land Use - CoreLogic     0\n",
       "Sale Date                0\n",
       "Last Sale Price          0\n",
       "File                     0\n",
       "sub_address              0\n",
       "search_by_address        0\n",
       "geometry                 0\n",
       "lat                      0\n",
       "lng                      0\n",
       "dtype: int64"
      ]
     },
     "execution_count": 46,
     "metadata": {},
     "output_type": "execute_result"
    }
   ],
   "source": [
    "df_data.isnull().sum()"
   ]
  },
  {
   "cell_type": "code",
   "execution_count": 47,
   "metadata": {},
   "outputs": [
    {
     "data": {
      "text/plain": [
       "39.481654    71\n",
       "39.607539    40\n",
       "39.607066    35\n",
       "39.501766    35\n",
       "39.474061    34\n",
       "             ..\n",
       "39.501570     1\n",
       "39.617576     1\n",
       "39.382949     1\n",
       "39.486767     1\n",
       "39.629056     1\n",
       "Name: lat, Length: 3081, dtype: int64"
      ]
     },
     "execution_count": 47,
     "metadata": {},
     "output_type": "execute_result"
    }
   ],
   "source": [
    "df_data['lat'].value_counts()"
   ]
  },
  {
   "cell_type": "code",
   "execution_count": 49,
   "metadata": {},
   "outputs": [],
   "source": [
    "# save data frame, cleaned.\n",
    "df_data.to_csv('../rawdata/Summit_County_public_record_with_geo_2017_2019.csv', index = False)\n"
   ]
  }
 ],
 "metadata": {
  "kernelspec": {
   "display_name": "Python 3",
   "language": "python",
   "name": "python3"
  },
  "language_info": {
   "codemirror_mode": {
    "name": "ipython",
    "version": 3
   },
   "file_extension": ".py",
   "mimetype": "text/x-python",
   "name": "python",
   "nbconvert_exporter": "python",
   "pygments_lexer": "ipython3",
   "version": "3.7.4"
  }
 },
 "nbformat": 4,
 "nbformat_minor": 4
}
